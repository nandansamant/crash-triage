{
 "cells": [
  {
   "cell_type": "code",
   "execution_count": 1,
   "id": "5879bd45",
   "metadata": {},
   "outputs": [
    {
     "name": "stderr",
     "output_type": "stream",
     "text": [
      "C:\\Users\\nsamant\\Anaconda3\\lib\\site-packages\\gensim\\similarities\\__init__.py:15: UserWarning: The gensim.similarities.levenshtein submodule is disabled, because the optional Levenshtein package <https://pypi.org/project/python-Levenshtein/> is unavailable. Install Levenhstein (e.g. `pip install python-Levenshtein`) to suppress this warning.\n",
      "  warnings.warn(msg)\n"
     ]
    }
   ],
   "source": [
    "import numpy as np\n",
    "import pandas as pd\n",
    "import matplotlib.pyplot as plt\n",
    "import re\n",
    "import math\n",
    "import string\n",
    "\n",
    "import numpy as np\n",
    "np.random.seed(1337)\n",
    "import json, re, nltk, string\n",
    "from nltk.corpus import wordnet\n",
    "from gensim.models import Word2Vec\n",
    "\n",
    "import logging\n",
    "import pandas as pd\n",
    "import numpy as np\n",
    "from numpy import random\n",
    "import gensim\n",
    "import nltk\n",
    "from sklearn.model_selection import train_test_split\n",
    "from sklearn.feature_extraction.text import CountVectorizer, TfidfVectorizer\n",
    "from sklearn.metrics import accuracy_score, confusion_matrix\n",
    "import matplotlib.pyplot as plt\n",
    "from nltk.corpus import stopwords\n",
    "import re\n",
    "from bs4 import BeautifulSoup\n",
    "%matplotlib inline\n"
   ]
  },
  {
   "cell_type": "code",
   "execution_count": 2,
   "id": "8620aeb7",
   "metadata": {},
   "outputs": [],
   "source": [
    "\n",
    "df=pd.read_csv('classifier_data_10.csv')"
   ]
  },
  {
   "cell_type": "code",
   "execution_count": 3,
   "id": "8722f40a",
   "metadata": {},
   "outputs": [
    {
     "data": {
      "text/plain": [
       "(114749, 3)"
      ]
     },
     "execution_count": 3,
     "metadata": {},
     "output_type": "execute_result"
    }
   ],
   "source": [
    "df.shape"
   ]
  },
  {
   "cell_type": "code",
   "execution_count": 4,
   "id": "758b6b2d",
   "metadata": {},
   "outputs": [
    {
     "data": {
      "text/html": [
       "<div>\n",
       "<style scoped>\n",
       "    .dataframe tbody tr th:only-of-type {\n",
       "        vertical-align: middle;\n",
       "    }\n",
       "\n",
       "    .dataframe tbody tr th {\n",
       "        vertical-align: top;\n",
       "    }\n",
       "\n",
       "    .dataframe thead th {\n",
       "        text-align: right;\n",
       "    }\n",
       "</style>\n",
       "<table border=\"1\" class=\"dataframe\">\n",
       "  <thead>\n",
       "    <tr style=\"text-align: right;\">\n",
       "      <th></th>\n",
       "      <th>owner</th>\n",
       "      <th>issue_title</th>\n",
       "      <th>description</th>\n",
       "    </tr>\n",
       "  </thead>\n",
       "  <tbody>\n",
       "    <tr>\n",
       "      <th>0</th>\n",
       "      <td>amit@chromium.org</td>\n",
       "      <td>Scrolling with some scroll mice (touchpad, etc...</td>\n",
       "      <td>Product Version      : &lt;see about:version&gt;URLs...</td>\n",
       "    </tr>\n",
       "    <tr>\n",
       "      <th>1</th>\n",
       "      <td>jon@chromium.org</td>\n",
       "      <td>Proxy causes some or all network requests to fail</td>\n",
       "      <td>Product Version      : 0.2.149.27 (1583)URLs (...</td>\n",
       "    </tr>\n",
       "    <tr>\n",
       "      <th>2</th>\n",
       "      <td>pfeldman@chromium.org</td>\n",
       "      <td>Web inspector button \"dock to main window\" doe...</td>\n",
       "      <td>Product Version      : chrome beta 1URLs (if a...</td>\n",
       "    </tr>\n",
       "    <tr>\n",
       "      <th>3</th>\n",
       "      <td>jon@chromium.org</td>\n",
       "      <td>Habari admin interface is not rendered correctly</td>\n",
       "      <td>Product Version      : 0.2.149.27 (1583)URLs (...</td>\n",
       "    </tr>\n",
       "    <tr>\n",
       "      <th>4</th>\n",
       "      <td>pkasting@chromium.org</td>\n",
       "      <td>Maximize on second larger monitor not working</td>\n",
       "      <td>Product Version      : 0.2.149.27URLs (if appl...</td>\n",
       "    </tr>\n",
       "  </tbody>\n",
       "</table>\n",
       "</div>"
      ],
      "text/plain": [
       "                   owner                                        issue_title  \\\n",
       "0      amit@chromium.org  Scrolling with some scroll mice (touchpad, etc...   \n",
       "1       jon@chromium.org  Proxy causes some or all network requests to fail   \n",
       "2  pfeldman@chromium.org  Web inspector button \"dock to main window\" doe...   \n",
       "3       jon@chromium.org   Habari admin interface is not rendered correctly   \n",
       "4  pkasting@chromium.org      Maximize on second larger monitor not working   \n",
       "\n",
       "                                         description  \n",
       "0  Product Version      : <see about:version>URLs...  \n",
       "1  Product Version      : 0.2.149.27 (1583)URLs (...  \n",
       "2  Product Version      : chrome beta 1URLs (if a...  \n",
       "3  Product Version      : 0.2.149.27 (1583)URLs (...  \n",
       "4  Product Version      : 0.2.149.27URLs (if appl...  "
      ]
     },
     "execution_count": 4,
     "metadata": {},
     "output_type": "execute_result"
    }
   ],
   "source": [
    "df.head()"
   ]
  },
  {
   "cell_type": "code",
   "execution_count": 5,
   "id": "a9f76e5d",
   "metadata": {},
   "outputs": [
    {
     "data": {
      "text/plain": [
       "owner          0\n",
       "issue_title    1\n",
       "description    1\n",
       "dtype: int64"
      ]
     },
     "execution_count": 5,
     "metadata": {},
     "output_type": "execute_result"
    }
   ],
   "source": [
    "df.isnull().sum()\n"
   ]
  },
  {
   "cell_type": "code",
   "execution_count": 6,
   "id": "9bb4ca62",
   "metadata": {},
   "outputs": [
    {
     "data": {
      "text/plain": [
       "owner          0\n",
       "issue_title    0\n",
       "description    0\n",
       "dtype: int64"
      ]
     },
     "execution_count": 6,
     "metadata": {},
     "output_type": "execute_result"
    }
   ],
   "source": [
    "\n",
    "df.dropna(inplace=True)\n",
    "df.isnull().sum()"
   ]
  },
  {
   "cell_type": "code",
   "execution_count": 7,
   "id": "6e07ca41",
   "metadata": {},
   "outputs": [
    {
     "data": {
      "text/plain": [
       "(114747, 3)"
      ]
     },
     "execution_count": 7,
     "metadata": {},
     "output_type": "execute_result"
    }
   ],
   "source": [
    "# df = df[:50]\n",
    "df.shape"
   ]
  },
  {
   "cell_type": "code",
   "execution_count": 8,
   "id": "1849a1e1",
   "metadata": {},
   "outputs": [
    {
     "data": {
      "text/plain": [
       "0         Product Version      : <see about:version>URLs...\n",
       "1         Product Version      : 0.2.149.27 (1583)URLs (...\n",
       "2         Product Version      : chrome beta 1URLs (if a...\n",
       "3         Product Version      : 0.2.149.27 (1583)URLs (...\n",
       "4         Product Version      : 0.2.149.27URLs (if appl...\n",
       "                                ...                        \n",
       "114744                                  We had git trouble \n",
       "114745    r255322 is culprithttp://build.chromium.org/p/...\n",
       "114746    Recently sites have begun replacing window.con...\n",
       "114747    All Windows GPU bots are failing a variety of ...\n",
       "114748    UserAgent: Mozilla/5.0 (X11; Linux x86_64) App...\n",
       "Name: description, Length: 114747, dtype: object"
      ]
     },
     "execution_count": 8,
     "metadata": {},
     "output_type": "execute_result"
    }
   ],
   "source": [
    "df['description']"
   ]
  },
  {
   "cell_type": "code",
   "execution_count": 9,
   "id": "ed67a860",
   "metadata": {},
   "outputs": [
    {
     "data": {
      "text/html": [
       "<div>\n",
       "<style scoped>\n",
       "    .dataframe tbody tr th:only-of-type {\n",
       "        vertical-align: middle;\n",
       "    }\n",
       "\n",
       "    .dataframe tbody tr th {\n",
       "        vertical-align: top;\n",
       "    }\n",
       "\n",
       "    .dataframe thead th {\n",
       "        text-align: right;\n",
       "    }\n",
       "</style>\n",
       "<table border=\"1\" class=\"dataframe\">\n",
       "  <thead>\n",
       "    <tr style=\"text-align: right;\">\n",
       "      <th></th>\n",
       "      <th>owner</th>\n",
       "      <th>issue_title</th>\n",
       "      <th>description</th>\n",
       "    </tr>\n",
       "  </thead>\n",
       "  <tbody>\n",
       "    <tr>\n",
       "      <th>114744</th>\n",
       "      <td>navabi@chromium.org</td>\n",
       "      <td>Launch clank_qa recipes to the waterfall</td>\n",
       "      <td>We had git trouble</td>\n",
       "    </tr>\n",
       "    <tr>\n",
       "      <th>114745</th>\n",
       "      <td>bulach@chromium.org</td>\n",
       "      <td>data race in ThreadWatcherListTest</td>\n",
       "      <td>r255322 is culprithttp://build.chromium.org/p/...</td>\n",
       "    </tr>\n",
       "    <tr>\n",
       "      <th>114746</th>\n",
       "      <td>pfeldman@chromium.org</td>\n",
       "      <td>window.console object should not be configurable</td>\n",
       "      <td>Recently sites have begun replacing window.con...</td>\n",
       "    </tr>\n",
       "    <tr>\n",
       "      <th>114747</th>\n",
       "      <td>ernstm@chromium.org</td>\n",
       "      <td>Windows GPU bots failing on multiple tests</td>\n",
       "      <td>All Windows GPU bots are failing a variety of ...</td>\n",
       "    </tr>\n",
       "    <tr>\n",
       "      <th>114748</th>\n",
       "      <td>apavlov@chromium.org</td>\n",
       "      <td>CSS auto-complete suggestion list is incomplet...</td>\n",
       "      <td>UserAgent: Mozilla/5.0 (X11; Linux x86_64) App...</td>\n",
       "    </tr>\n",
       "  </tbody>\n",
       "</table>\n",
       "</div>"
      ],
      "text/plain": [
       "                        owner  \\\n",
       "114744    navabi@chromium.org   \n",
       "114745    bulach@chromium.org   \n",
       "114746  pfeldman@chromium.org   \n",
       "114747    ernstm@chromium.org   \n",
       "114748   apavlov@chromium.org   \n",
       "\n",
       "                                              issue_title  \\\n",
       "114744           Launch clank_qa recipes to the waterfall   \n",
       "114745                 data race in ThreadWatcherListTest   \n",
       "114746   window.console object should not be configurable   \n",
       "114747         Windows GPU bots failing on multiple tests   \n",
       "114748  CSS auto-complete suggestion list is incomplet...   \n",
       "\n",
       "                                              description  \n",
       "114744                                We had git trouble   \n",
       "114745  r255322 is culprithttp://build.chromium.org/p/...  \n",
       "114746  Recently sites have begun replacing window.con...  \n",
       "114747  All Windows GPU bots are failing a variety of ...  \n",
       "114748  UserAgent: Mozilla/5.0 (X11; Linux x86_64) App...  "
      ]
     },
     "execution_count": 9,
     "metadata": {},
     "output_type": "execute_result"
    }
   ],
   "source": [
    "df.tail()"
   ]
  },
  {
   "cell_type": "code",
   "execution_count": 11,
   "id": "72200790",
   "metadata": {},
   "outputs": [
    {
     "data": {
      "text/plain": [
       "(8862, 3)"
      ]
     },
     "execution_count": 11,
     "metadata": {},
     "output_type": "execute_result"
    }
   ],
   "source": [
    "filtered = df.groupby('owner')['owner'].filter(lambda x: len(x) >= 500)\n",
    "f = df[df['owner'].isin(filtered)]\n",
    "f.shape"
   ]
  },
  {
   "cell_type": "code",
   "execution_count": 12,
   "id": "c7d022fd",
   "metadata": {},
   "outputs": [],
   "source": [
    "df = f"
   ]
  },
  {
   "cell_type": "code",
   "execution_count": 13,
   "id": "be29ef10",
   "metadata": {},
   "outputs": [
    {
     "data": {
      "text/plain": [
       "13"
      ]
     },
     "execution_count": 13,
     "metadata": {},
     "output_type": "execute_result"
    }
   ],
   "source": [
    "len(f['owner'].unique())"
   ]
  },
  {
   "cell_type": "code",
   "execution_count": 15,
   "id": "b8f429c8",
   "metadata": {},
   "outputs": [],
   "source": [
    "import string\n",
    "# remove URL\n",
    "df['description']=df['description'].apply(lambda x: re.sub(r'http[s]?://(?:[a-zA-Z]|[0-9]|[$-_@.&+]|[!*\\(\\),]|(?:%[0-9a-fA-F][0-9a-fA-F]))+', '', x))\n",
    "df['description']=df['description'].apply(lambda x: re.sub(r'(\\w+)0x\\w+', '', x))\n",
    "df['description']=df['description'].apply(lambda x: re.sub('\\w*\\d\\w*','', x))\n",
    "df['description']=df['description'].apply(lambda x: re.sub('\\.',' ', x))\n",
    "df['description']=df['description'].apply(lambda x: re.sub('\\?',' ', x))\n",
    "# df['description']=df['description'].apply(lambda x: re.sub('[%s]' % re.escape(string.punctuation), '', x))\n",
    "df['description']=df['description'].apply(lambda x: re.sub(' +',' ',x))\n",
    "df['description']=df['description'].apply(lambda x: x.lower())\n",
    "df['description']=df['description'].apply(lambda x: x.strip(string.punctuation))\n",
    "df['description']=df['description'].apply(lambda x: x.translate(str.maketrans('', '', string.punctuation)))"
   ]
  },
  {
   "cell_type": "code",
   "execution_count": 16,
   "id": "ef0cc631",
   "metadata": {},
   "outputs": [
    {
     "data": {
      "text/html": [
       "<div>\n",
       "<style scoped>\n",
       "    .dataframe tbody tr th:only-of-type {\n",
       "        vertical-align: middle;\n",
       "    }\n",
       "\n",
       "    .dataframe tbody tr th {\n",
       "        vertical-align: top;\n",
       "    }\n",
       "\n",
       "    .dataframe thead th {\n",
       "        text-align: right;\n",
       "    }\n",
       "</style>\n",
       "<table border=\"1\" class=\"dataframe\">\n",
       "  <thead>\n",
       "    <tr style=\"text-align: right;\">\n",
       "      <th></th>\n",
       "      <th>owner</th>\n",
       "      <th>issue_title</th>\n",
       "      <th>description</th>\n",
       "    </tr>\n",
       "  </thead>\n",
       "  <tbody>\n",
       "    <tr>\n",
       "      <th>2</th>\n",
       "      <td>pfeldman@chromium.org</td>\n",
       "      <td>Web inspector button \"dock to main window\" doe...</td>\n",
       "      <td>product version  chrome beta if applicable oth...</td>\n",
       "    </tr>\n",
       "    <tr>\n",
       "      <th>17</th>\n",
       "      <td>pfeldman@chromium.org</td>\n",
       "      <td>Web inspector button \"dock to main window\" doe...</td>\n",
       "      <td>product version  chrome beta if applicable oth...</td>\n",
       "    </tr>\n",
       "    <tr>\n",
       "      <th>30</th>\n",
       "      <td>tkent@chromium.org</td>\n",
       "      <td>Use-after-free by navigating out a document du...</td>\n",
       "      <td>version tot  linuxwhat steps will reproduce th...</td>\n",
       "    </tr>\n",
       "    <tr>\n",
       "      <th>36</th>\n",
       "      <td>sky@chromium.org</td>\n",
       "      <td>Cannot add an address properly in the  \"AutoFi...</td>\n",
       "      <td>chrome version  official build what steps will...</td>\n",
       "    </tr>\n",
       "    <tr>\n",
       "      <th>41</th>\n",
       "      <td>estade@chromium.org</td>\n",
       "      <td>Attempting to drag a window by the only tab ca...</td>\n",
       "      <td>chrome version  developer build what steps wil...</td>\n",
       "    </tr>\n",
       "    <tr>\n",
       "      <th>...</th>\n",
       "      <td>...</td>\n",
       "      <td>...</td>\n",
       "      <td>...</td>\n",
       "    </tr>\n",
       "    <tr>\n",
       "      <th>114707</th>\n",
       "      <td>tkent@chromium.org</td>\n",
       "      <td>adding first option element to datalist attach...</td>\n",
       "      <td>useragent mozilla windows nt   applewebkit kht...</td>\n",
       "    </tr>\n",
       "    <tr>\n",
       "      <th>114721</th>\n",
       "      <td>tkent@chromium.org</td>\n",
       "      <td>ASSERTION FAILED: !object || (object-&gt;isListBo...</td>\n",
       "      <td>vulnerability detailsselect elements with a si...</td>\n",
       "    </tr>\n",
       "    <tr>\n",
       "      <th>114733</th>\n",
       "      <td>pfeldman@chromium.org</td>\n",
       "      <td>DevTools: [regression r167227] timeline frame ...</td>\n",
       "      <td>record a large  switch to frame  select range...</td>\n",
       "    </tr>\n",
       "    <tr>\n",
       "      <th>114739</th>\n",
       "      <td>a...@chromium.org</td>\n",
       "      <td>Class filter is broken</td>\n",
       "      <td>take a heap in summary view type objectresult...</td>\n",
       "    </tr>\n",
       "    <tr>\n",
       "      <th>114746</th>\n",
       "      <td>pfeldman@chromium.org</td>\n",
       "      <td>window.console object should not be configurable</td>\n",
       "      <td>recently sites have begun replacing window con...</td>\n",
       "    </tr>\n",
       "  </tbody>\n",
       "</table>\n",
       "<p>8862 rows × 3 columns</p>\n",
       "</div>"
      ],
      "text/plain": [
       "                        owner  \\\n",
       "2       pfeldman@chromium.org   \n",
       "17      pfeldman@chromium.org   \n",
       "30         tkent@chromium.org   \n",
       "36           sky@chromium.org   \n",
       "41        estade@chromium.org   \n",
       "...                       ...   \n",
       "114707     tkent@chromium.org   \n",
       "114721     tkent@chromium.org   \n",
       "114733  pfeldman@chromium.org   \n",
       "114739      a...@chromium.org   \n",
       "114746  pfeldman@chromium.org   \n",
       "\n",
       "                                              issue_title  \\\n",
       "2       Web inspector button \"dock to main window\" doe...   \n",
       "17      Web inspector button \"dock to main window\" doe...   \n",
       "30      Use-after-free by navigating out a document du...   \n",
       "36      Cannot add an address properly in the  \"AutoFi...   \n",
       "41      Attempting to drag a window by the only tab ca...   \n",
       "...                                                   ...   \n",
       "114707  adding first option element to datalist attach...   \n",
       "114721  ASSERTION FAILED: !object || (object->isListBo...   \n",
       "114733  DevTools: [regression r167227] timeline frame ...   \n",
       "114739                             Class filter is broken   \n",
       "114746   window.console object should not be configurable   \n",
       "\n",
       "                                              description  \n",
       "2       product version  chrome beta if applicable oth...  \n",
       "17      product version  chrome beta if applicable oth...  \n",
       "30      version tot  linuxwhat steps will reproduce th...  \n",
       "36      chrome version  official build what steps will...  \n",
       "41      chrome version  developer build what steps wil...  \n",
       "...                                                   ...  \n",
       "114707  useragent mozilla windows nt   applewebkit kht...  \n",
       "114721  vulnerability detailsselect elements with a si...  \n",
       "114733   record a large  switch to frame  select range...  \n",
       "114739   take a heap in summary view type objectresult...  \n",
       "114746  recently sites have begun replacing window con...  \n",
       "\n",
       "[8862 rows x 3 columns]"
      ]
     },
     "execution_count": 16,
     "metadata": {},
     "output_type": "execute_result"
    }
   ],
   "source": [
    "df"
   ]
  },
  {
   "cell_type": "code",
   "execution_count": 17,
   "id": "b7f5792e",
   "metadata": {},
   "outputs": [],
   "source": [
    "X = df.description\n",
    "y = df.owner\n",
    "X_train, X_test, y_train, y_test = train_test_split(X, y, test_size=0.3, random_state = 42)"
   ]
  },
  {
   "cell_type": "code",
   "execution_count": 18,
   "id": "019b56d7",
   "metadata": {},
   "outputs": [
    {
     "data": {
      "image/png": "[encoded data removed]",
      "text/plain": [
       "<Figure size 720x288 with 1 Axes>"
      ]
     },
     "metadata": {
      "needs_background": "light"
     },
     "output_type": "display_data"
    }
   ],
   "source": [
    "plt.figure(figsize=(10,4))\n",
    "df.owner.value_counts().plot(kind='bar');"
   ]
  },
  {
   "cell_type": "code",
   "execution_count": 19,
   "id": "896ebda1",
   "metadata": {},
   "outputs": [],
   "source": [
    "my_tags = y_test.unique()"
   ]
  },
  {
   "cell_type": "code",
   "execution_count": 20,
   "id": "66fba2e8",
   "metadata": {},
   "outputs": [
    {
     "data": {
      "text/plain": [
       "13"
      ]
     },
     "execution_count": 20,
     "metadata": {},
     "output_type": "execute_result"
    }
   ],
   "source": [
    "len(y_test.unique())"
   ]
  },
  {
   "cell_type": "code",
   "execution_count": 21,
   "id": "bbb79197",
   "metadata": {},
   "outputs": [
    {
     "data": {
      "text/plain": [
       "True"
      ]
     },
     "execution_count": 21,
     "metadata": {},
     "output_type": "execute_result"
    }
   ],
   "source": [
    "len(y_train.unique())\n",
    "y_train.unique() in y_test.unique()"
   ]
  },
  {
   "cell_type": "markdown",
   "id": "f5d9a0cc",
   "metadata": {},
   "source": [
    "## Multinomial Naive Bayes Classifier "
   ]
  },
  {
   "cell_type": "code",
   "execution_count": 22,
   "id": "db560060",
   "metadata": {},
   "outputs": [
    {
     "name": "stdout",
     "output_type": "stream",
     "text": [
      "accuracy 0.285821737495299\n",
      "                         precision    recall  f1-score   support\n",
      "\n",
      "     tkent@chromium.org       1.00      0.02      0.03       178\n",
      "   dgozman@chromium.org       0.71      0.13      0.22       222\n",
      "      e...@chromium.org       0.66      0.54      0.60       226\n",
      "      sosa@chromium.org       0.87      0.13      0.22       156\n",
      "      a...@chromium.org       1.00      0.03      0.05       180\n",
      "  pfeldman@chromium.org       0.19      0.95      0.31       391\n",
      "    estade@chromium.org       0.48      0.26      0.34       190\n",
      "davidjames@chromium.org       0.39      0.23      0.29       271\n",
      "       sky@chromium.org       0.79      0.12      0.20       165\n",
      "    tha...@chromium.org       1.00      0.08      0.15       151\n",
      "  steve...@chromium.org       0.74      0.17      0.28       204\n",
      "    ananta@chromium.org       1.00      0.02      0.04       150\n",
      "   thestig@chromium.org       0.47      0.17      0.24       175\n",
      "\n",
      "               accuracy                           0.29      2659\n",
      "              macro avg       0.72      0.22      0.23      2659\n",
      "           weighted avg       0.65      0.29      0.25      2659\n",
      "\n"
     ]
    }
   ],
   "source": [
    "from sklearn.naive_bayes import MultinomialNB\n",
    "from sklearn.pipeline import Pipeline\n",
    "from sklearn.feature_extraction.text import TfidfTransformer\n",
    "\n",
    "nb = Pipeline([('vect', CountVectorizer()),\n",
    "               ('tfidf', TfidfTransformer()),\n",
    "               ('clf', MultinomialNB()),\n",
    "              ])\n",
    "nb.fit(X_train, y_train)\n",
    "\n",
    "# %%time\n",
    "from sklearn.metrics import classification_report\n",
    "y_pred = nb.predict(X_test)\n",
    "\n",
    "print('accuracy %s' % accuracy_score(y_pred, y_test))\n",
    "print(classification_report(y_test, y_pred,target_names=my_tags))"
   ]
  },
  {
   "cell_type": "markdown",
   "id": "9742fc2c",
   "metadata": {},
   "source": [
    "## Linear Support Vector Machine"
   ]
  },
  {
   "cell_type": "code",
   "execution_count": 47,
   "id": "28be97b0",
   "metadata": {},
   "outputs": [
    {
     "name": "stdout",
     "output_type": "stream",
     "text": [
      "accuracy 0.5385483264385107\n",
      "                         precision    recall  f1-score   support\n",
      "\n",
      "     tkent@chromium.org       0.48      0.23      0.31       155\n",
      "   dgozman@chromium.org       0.61      0.66      0.64       211\n",
      "      e...@chromium.org       0.63      0.79      0.70       230\n",
      "      sosa@chromium.org       0.57      0.59      0.58       174\n",
      "      a...@chromium.org       0.37      0.31      0.34       183\n",
      "  pfeldman@chromium.org       0.46      0.56      0.51       377\n",
      "    estade@chromium.org       0.58      0.49      0.53       222\n",
      "davidjames@chromium.org       0.50      0.59      0.54       263\n",
      "       sky@chromium.org       0.60      0.38      0.47       159\n",
      "    tha...@chromium.org       0.68      0.66      0.67       158\n",
      "  steve...@chromium.org       0.55      0.54      0.54       209\n",
      "    ananta@chromium.org       0.49      0.42      0.45       159\n",
      "   thestig@chromium.org       0.50      0.63      0.56       159\n",
      "\n",
      "               accuracy                           0.54      2659\n",
      "              macro avg       0.54      0.53      0.53      2659\n",
      "           weighted avg       0.54      0.54      0.53      2659\n",
      "\n"
     ]
    }
   ],
   "source": [
    "\n",
    "from sklearn.linear_model import SGDClassifier\n",
    "\n",
    "sgd = Pipeline([('vect', CountVectorizer()),\n",
    "                ('tfidf', TfidfTransformer()),\n",
    "                ('clf', SGDClassifier(loss='hinge', penalty='l2',alpha=1e-3, random_state=42, max_iter=5, tol=None)),\n",
    "               ])\n",
    "sgd.fit(X_train, y_train)\n",
    "\n",
    "# %%time\n",
    "\n",
    "y_pred = sgd.predict(X_test)\n",
    "\n",
    "print('accuracy %s' % accuracy_score(y_pred, y_test))\n",
    "print(classification_report(y_test, y_pred,target_names=my_tags))"
   ]
  },
  {
   "cell_type": "markdown",
   "id": "810c414c",
   "metadata": {},
   "source": [
    "## Logistic Regression"
   ]
  },
  {
   "cell_type": "code",
   "execution_count": 48,
   "id": "bc697dc3",
   "metadata": {},
   "outputs": [
    {
     "name": "stdout",
     "output_type": "stream",
     "text": [
      "accuracy 0.5238811583301993\n",
      "                         precision    recall  f1-score   support\n",
      "\n",
      "     tkent@chromium.org       0.32      0.30      0.31       155\n",
      "   dgozman@chromium.org       0.63      0.60      0.62       211\n",
      "      e...@chromium.org       0.60      0.67      0.63       230\n",
      "      sosa@chromium.org       0.59      0.56      0.58       174\n",
      "      a...@chromium.org       0.36      0.34      0.35       183\n",
      "  pfeldman@chromium.org       0.52      0.53      0.52       377\n",
      "    estade@chromium.org       0.53      0.47      0.50       222\n",
      "davidjames@chromium.org       0.49      0.51      0.50       263\n",
      "       sky@chromium.org       0.47      0.58      0.52       159\n",
      "    tha...@chromium.org       0.73      0.61      0.67       158\n",
      "  steve...@chromium.org       0.58      0.49      0.53       209\n",
      "    ananta@chromium.org       0.47      0.48      0.47       159\n",
      "   thestig@chromium.org       0.52      0.62      0.56       159\n",
      "\n",
      "               accuracy                           0.52      2659\n",
      "              macro avg       0.52      0.52      0.52      2659\n",
      "           weighted avg       0.53      0.52      0.52      2659\n",
      "\n"
     ]
    },
    {
     "name": "stderr",
     "output_type": "stream",
     "text": [
      "C:\\Users\\nsamant\\Anaconda3\\lib\\site-packages\\sklearn\\linear_model\\_logistic.py:763: ConvergenceWarning: lbfgs failed to converge (status=1):\n",
      "STOP: TOTAL NO. of ITERATIONS REACHED LIMIT.\n",
      "\n",
      "Increase the number of iterations (max_iter) or scale the data as shown in:\n",
      "    https://scikit-learn.org/stable/modules/preprocessing.html\n",
      "Please also refer to the documentation for alternative solver options:\n",
      "    https://scikit-learn.org/stable/modules/linear_model.html#logistic-regression\n",
      "  n_iter_i = _check_optimize_result(\n"
     ]
    }
   ],
   "source": [
    "from sklearn.linear_model import LogisticRegression\n",
    "\n",
    "logreg = Pipeline([('vect', CountVectorizer()),\n",
    "                ('tfidf', TfidfTransformer()),\n",
    "                ('clf', LogisticRegression(n_jobs=1, C=1e5)),\n",
    "               ])\n",
    "logreg.fit(X_train, y_train)\n",
    "\n",
    "# %%time\n",
    "\n",
    "y_pred = logreg.predict(X_test)\n",
    "\n",
    "print('accuracy %s' % accuracy_score(y_pred, y_test))\n",
    "print(classification_report(y_test, y_pred,target_names=my_tags))"
   ]
  },
  {
   "cell_type": "markdown",
   "id": "edc577ff",
   "metadata": {},
   "source": [
    "## Word2vec and Logistic Regression"
   ]
  },
  {
   "cell_type": "code",
   "execution_count": 23,
   "id": "28037ad6",
   "metadata": {},
   "outputs": [],
   "source": [
    "from gensim.models import Word2Vec\n",
    "wv = gensim.models.KeyedVectors.load_word2vec_format(\"GoogleNews-vectors-negative300.bin.gz\", binary=True)\n",
    "wv.fill_norms(force=False)"
   ]
  },
  {
   "cell_type": "code",
   "execution_count": 30,
   "id": "141f7cfb",
   "metadata": {},
   "outputs": [
    {
     "data": {
      "text/plain": [
       "gensim.models.keyedvectors.KeyedVectors"
      ]
     },
     "execution_count": 30,
     "metadata": {},
     "output_type": "execute_result"
    }
   ],
   "source": [
    "model = wv\n",
    "type(model)"
   ]
  },
  {
   "cell_type": "code",
   "execution_count": 35,
   "id": "2dcbe248",
   "metadata": {},
   "outputs": [],
   "source": [
    "def word_averaging(wv, words):\n",
    "    all_words, mean = set(), []\n",
    "    \n",
    "    for word in words:\n",
    "        if isinstance(word, np.ndarray):\n",
    "            mean.append(word)\n",
    "        elif word in wv.key_to_index:\n",
    "            mean.append(wv.vectors[wv.key_to_index[word]])\n",
    "            all_words.add(wv.key_to_index[word])\n",
    "\n",
    "    if not mean:\n",
    "        logging.warning(\"cannot compute similarity with no input %s\", words)\n",
    "        # FIXME: remove these examples in pre-processing\n",
    "        return np.zeros(wv.vector_size,)\n",
    "\n",
    "    mean = gensim.matutils.unitvec(np.array(mean).mean(axis=0)).astype(np.float32)\n",
    "    return mean\n",
    "\n",
    "def  word_averaging_list(wv, text_list):\n",
    "    return np.vstack([word_averaging(wv, post) for post in text_list ])"
   ]
  },
  {
   "cell_type": "code",
   "execution_count": 36,
   "id": "f73007a5",
   "metadata": {},
   "outputs": [
    {
     "name": "stderr",
     "output_type": "stream",
     "text": [
      "WARNING:root:cannot compute similarity with no input []\n",
      "WARNING:root:cannot compute similarity with no input ['devserver']\n",
      "WARNING:root:cannot compute similarity with no input ['ssia']\n",
      "WARNING:root:cannot compute similarity with no input []\n",
      "WARNING:root:cannot compute similarity with no input ['egrep', 'remotescrosinternal', 'remotescrosinternal', 'remotescrosinternal', 'remotescrosinternal', 'remotescrosinternal', 'remotescrosinternal', 'remotescrosinternal', 'remotescrosinternal', 'remotescrosinternal', 'remotescrosinternal', 'remotescrosinternal', 'remotescrosinternal', 'remotescrosinternal', 'remotescrosinternal', 'remotescrosinternal', 'remotescrosinternal', 'remotescrosinternal', 'remotescrosinternal', 'remotescrosinternal', 'remotescrosinternal', 'remotescrosinternal', 'remotescrosinternal', 'remotescrosinternal', 'remotescrosinternal', 'remotescrosinternal', 'remotescrosinternal', 'remotescrosinternal', 'remotescrosinternal', 'remotescrosinternal', 'remotescrosinternal', 'remotescrosinternal', 'remotescrosinternal', 'remotescrosinternal', 'remotescrosinternal', 'remotescrosinternal']\n",
      "WARNING:root:cannot compute similarity with no input []\n",
      "WARNING:root:cannot compute similarity with no input ['eom']\n",
      "WARNING:root:cannot compute similarity with no input ['eom']\n",
      "WARNING:root:cannot compute similarity with no input []\n",
      "WARNING:root:cannot compute similarity with no input []\n",
      "WARNING:root:cannot compute similarity with no input ['ssia']\n",
      "WARNING:root:cannot compute similarity with no input ['eom']\n",
      "WARNING:root:cannot compute similarity with no input []\n",
      "WARNING:root:cannot compute similarity with no input ['eom']\n",
      "WARNING:root:cannot compute similarity with no input []\n",
      "WARNING:root:cannot compute similarity with no input ['ssia']\n",
      "WARNING:root:cannot compute similarity with no input []\n",
      "WARNING:root:cannot compute similarity with no input ['eom']\n",
      "WARNING:root:cannot compute similarity with no input ['ssia']\n",
      "WARNING:root:cannot compute similarity with no input []\n",
      "WARNING:root:cannot compute similarity with no input ['eom']\n",
      "WARNING:root:cannot compute similarity with no input ['ssia']\n",
      "WARNING:root:cannot compute similarity with no input ['eom']\n",
      "WARNING:root:cannot compute similarity with no input ['ssia']\n",
      "WARNING:root:cannot compute similarity with no input ['ssia']\n",
      "WARNING:root:cannot compute similarity with no input ['subj']\n",
      "WARNING:root:cannot compute similarity with no input []\n",
      "WARNING:root:cannot compute similarity with no input ['eom']\n",
      "WARNING:root:cannot compute similarity with no input []\n",
      "WARNING:root:cannot compute similarity with no input []\n",
      "WARNING:root:cannot compute similarity with no input ['eom']\n",
      "WARNING:root:cannot compute similarity with no input []\n",
      "WARNING:root:cannot compute similarity with no input []\n",
      "WARNING:root:cannot compute similarity with no input ['ssia']\n",
      "WARNING:root:cannot compute similarity with no input ['ssia']\n",
      "WARNING:root:cannot compute similarity with no input ['eom']\n",
      "WARNING:root:cannot compute similarity with no input []\n",
      "WARNING:root:cannot compute similarity with no input ['ssia']\n",
      "WARNING:root:cannot compute similarity with no input []\n",
      "WARNING:root:cannot compute similarity with no input []\n",
      "WARNING:root:cannot compute similarity with no input ['eom']\n"
     ]
    }
   ],
   "source": [
    "def w2v_tokenize_text(text):\n",
    "    tokens = []\n",
    "    for sent in nltk.sent_tokenize(text, language='english'):\n",
    "        for word in nltk.word_tokenize(sent, language='english'):\n",
    "            if len(word) < 2:\n",
    "                continue\n",
    "            tokens.append(word)\n",
    "    return tokens\n",
    "    \n",
    "train, test = train_test_split(df, test_size=0.3, random_state = 42)\n",
    "\n",
    "test_tokenized = test.apply(lambda r: w2v_tokenize_text(r['description']), axis=1).values\n",
    "train_tokenized = train.apply(lambda r: w2v_tokenize_text(r['description']), axis=1).values\n",
    "\n",
    "X_train_word_average = word_averaging_list(wv,train_tokenized)\n",
    "X_test_word_average = word_averaging_list(wv,test_tokenized)"
   ]
  },
  {
   "cell_type": "code",
   "execution_count": 40,
   "id": "bdaa358a",
   "metadata": {},
   "outputs": [
    {
     "name": "stdout",
     "output_type": "stream",
     "text": [
      "accuracy 0.41143286949981195\n",
      "                         precision    recall  f1-score   support\n",
      "\n",
      "     tkent@chromium.org       0.25      0.15      0.19       178\n",
      "   dgozman@chromium.org       0.43      0.44      0.44       222\n",
      "      e...@chromium.org       0.51      0.55      0.53       226\n",
      "      sosa@chromium.org       0.43      0.40      0.42       156\n",
      "      a...@chromium.org       0.29      0.23      0.26       180\n",
      "  pfeldman@chromium.org       0.38      0.51      0.43       391\n",
      "    estade@chromium.org       0.43      0.46      0.45       190\n",
      "davidjames@chromium.org       0.38      0.41      0.40       271\n",
      "       sky@chromium.org       0.41      0.42      0.42       165\n",
      "    tha...@chromium.org       0.53      0.48      0.50       151\n",
      "  steve...@chromium.org       0.45      0.38      0.41       204\n",
      "    ananta@chromium.org       0.36      0.28      0.31       150\n",
      "   thestig@chromium.org       0.44      0.46      0.45       175\n",
      "\n",
      "               accuracy                           0.41      2659\n",
      "              macro avg       0.41      0.40      0.40      2659\n",
      "           weighted avg       0.41      0.41      0.41      2659\n",
      "\n"
     ]
    },
    {
     "name": "stderr",
     "output_type": "stream",
     "text": [
      "C:\\Users\\nsamant\\Anaconda3\\lib\\site-packages\\sklearn\\linear_model\\_logistic.py:763: ConvergenceWarning: lbfgs failed to converge (status=1):\n",
      "STOP: TOTAL NO. of ITERATIONS REACHED LIMIT.\n",
      "\n",
      "Increase the number of iterations (max_iter) or scale the data as shown in:\n",
      "    https://scikit-learn.org/stable/modules/preprocessing.html\n",
      "Please also refer to the documentation for alternative solver options:\n",
      "    https://scikit-learn.org/stable/modules/linear_model.html#logistic-regression\n",
      "  n_iter_i = _check_optimize_result(\n"
     ]
    }
   ],
   "source": [
    "from sklearn.linear_model import LogisticRegression\n",
    "logreg = LogisticRegression(n_jobs=1, C=1e5)\n",
    "logreg = logreg.fit(X_train_word_average, train['owner'])\n",
    "y_pred = logreg.predict(X_test_word_average)\n",
    "print('accuracy %s' % accuracy_score(y_pred, test.owner))\n",
    "print(classification_report(test.owner, y_pred,target_names=my_tags))"
   ]
  }
 ],
 "metadata": {
  "kernelspec": {
   "display_name": "Python 3",
   "language": "python",
   "name": "python3"
  },
  "language_info": {
   "codemirror_mode": {
    "name": "ipython",
    "version": 3
   },
   "file_extension": ".py",
   "mimetype": "text/x-python",
   "name": "python",
   "nbconvert_exporter": "python",
   "pygments_lexer": "ipython3",
   "version": "3.8.8"
  }
 },
 "nbformat": 4,
 "nbformat_minor": 5
}
