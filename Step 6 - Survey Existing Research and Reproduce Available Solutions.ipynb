{
 "cells": [
  {
   "cell_type": "code",
   "execution_count": 2,
   "id": "f12dfaa4",
   "metadata": {},
   "outputs": [
    {
     "name": "stderr",
     "output_type": "stream",
     "text": [
      "C:\\Users\\nsamant\\Anaconda3\\lib\\site-packages\\gensim\\similarities\\__init__.py:15: UserWarning: The gensim.similarities.levenshtein submodule is disabled, because the optional Levenshtein package <https://pypi.org/project/python-Levenshtein/> is unavailable. Install Levenhstein (e.g. `pip install python-Levenshtein`) to suppress this warning.\n",
      "  warnings.warn(msg)\n"
     ]
    }
   ],
   "source": [
    "import numpy as np\n",
    "np.random.seed(1337)\n",
    "import json, re, nltk, string\n",
    "from nltk.corpus import wordnet\n",
    "from gensim.models import word2vec\n",
    "from keras.preprocessing import sequence\n",
    "from keras.models import Model\n",
    "from keras.layers import Dense, Dropout, Embedding, LSTM, Input, merge\n",
    "from keras.optimizers import RMSprop\n",
    "from keras.utils import np_utils\n",
    "from sklearn.feature_extraction.text import CountVectorizer\n",
    "from sklearn.feature_extraction.text import TfidfTransformer\n",
    "from sklearn.naive_bayes import MultinomialNB\n",
    "from sklearn import svm\n",
    "from sklearn.linear_model import LogisticRegression\n",
    "from sklearn.multiclass import OneVsRestClassifier\n",
    "from sklearn.metrics.pairwise import cosine_similarity"
   ]
  },
  {
   "cell_type": "code",
   "execution_count": 3,
   "id": "4237c0b2",
   "metadata": {},
   "outputs": [],
   "source": [
    "import pandas as pd\n"
   ]
  },
  {
   "cell_type": "code",
   "execution_count": 4,
   "id": "6d52d6a1",
   "metadata": {},
   "outputs": [],
   "source": [
    "min_word_frequency_word2vec = 5\n",
    "embed_size_word2vec = 200\n",
    "context_window_word2vec = 5\n",
    "\n",
    "numCV = 10\n",
    "max_sentence_len = 50\n",
    "min_sentence_length = 15\n",
    "rankK = 10\n",
    "batch_size = 32"
   ]
  },
  {
   "cell_type": "code",
   "execution_count": 5,
   "id": "fb565aae",
   "metadata": {},
   "outputs": [],
   "source": [
    "df=pd.read_csv('classifier_data_10.csv')"
   ]
  },
  {
   "cell_type": "code",
   "execution_count": 6,
   "id": "add44ef9",
   "metadata": {},
   "outputs": [
    {
     "data": {
      "text/plain": [
       "13"
      ]
     },
     "execution_count": 6,
     "metadata": {},
     "output_type": "execute_result"
    }
   ],
   "source": [
    "filtered = df.groupby('owner')['owner'].filter(lambda x: len(x) >= 500)\n",
    "f = df[df['owner'].isin(filtered)]\n",
    "df = f\n",
    "\n",
    "df.dropna(inplace=True)\n",
    "df.isnull().sum()\n",
    "len(f['owner'].unique())"
   ]
  },
  {
   "cell_type": "code",
   "execution_count": 7,
   "id": "848c516d",
   "metadata": {},
   "outputs": [],
   "source": [
    "from sklearn.model_selection import train_test_split\n",
    "X = df.description\n",
    "y = df.owner\n",
    "X_train, X_test, y_train, y_test = train_test_split(X, y, test_size=0.3, random_state = 42)"
   ]
  },
  {
   "cell_type": "code",
   "execution_count": 8,
   "id": "01570a5a",
   "metadata": {},
   "outputs": [],
   "source": [
    "\n",
    "train_data = []\n",
    "train_owner = []\n",
    "test_data = []\n",
    "test_owner = []\n",
    "\n",
    "all_data_unfiltered = []\n",
    "\n",
    "def purge_string(text):\n",
    "    current_desc = text.replace('\\r', ' ')    \n",
    "    current_desc = re.sub(r'http[s]?://(?:[a-zA-Z]|[0-9]|[$-_@.&+]|[!*\\(\\),]|(?:%[0-9a-fA-F][0-9a-fA-F]))+', '', current_desc)    \n",
    "    start_loc = current_desc.find(\"Stack trace:\")\n",
    "    current_desc = current_desc[:start_loc]    \n",
    "    current_desc = re.sub(r'(\\w+)0x\\w+', '', current_desc)\n",
    "    current_desc = current_desc.lower()\n",
    "    current_desc_tokens = nltk.word_tokenize(current_desc)\n",
    "    current_desc_filter = [word.strip(string.punctuation) for word in current_desc_tokens]\n",
    "    current_data = current_desc_filter\n",
    "    return current_data\n",
    "\n",
    "for item in X_train:\n",
    "    current_data = purge_string(item)\n",
    "    all_data_unfiltered.append(current_data)     \n",
    "    train_data.append(filter(None, current_data)) \n",
    "\n",
    "for item in y_train:\n",
    "    train_owner.append(item)\n",
    "    \n",
    "for item in X_test:\n",
    "    current_data = purge_string(item)\n",
    "    test_data.append(filter(None, current_data)) \n",
    "\n",
    "for item in y_test:\n",
    "    test_owner.append(item)"
   ]
  },
  {
   "cell_type": "code",
   "execution_count": 9,
   "id": "4f773719",
   "metadata": {},
   "outputs": [
    {
     "name": "stderr",
     "output_type": "stream",
     "text": [
      "<ipython-input-9-e9ec986d7c33>:2: DeprecationWarning: Call to deprecated `init_sims` (Gensim 4.0.0 implemented internal optimizations that make calls to init_sims() unnecessary. init_sims() is now obsoleted and will be completely removed in future versions. See https://github.com/RaRe-Technologies/gensim/wiki/Migrating-from-Gensim-3.x-to-4).\n",
      "  model.init_sims(replace=True)\n"
     ]
    }
   ],
   "source": [
    "model  = word2vec.Word2Vec(min_count=min_word_frequency_word2vec, vector_size=embed_size_word2vec, window=context_window_word2vec)\n",
    "model.init_sims(replace=True)\n",
    "model.build_vocab(all_data_unfiltered, progress_per=100000)\n",
    "vocabulary = model.wv.key_to_index\n",
    "vocab_size = len(vocabulary)\n"
   ]
  },
  {
   "cell_type": "code",
   "execution_count": 10,
   "id": "81c827fe",
   "metadata": {},
   "outputs": [],
   "source": [
    "updated_train_data = []    \n",
    "updated_train_data_length = []    \n",
    "updated_train_owner = []\n",
    "final_test_data = []\n",
    "final_test_owner = []\n",
    "for j, item in enumerate(train_data):\n",
    "    current_train_filter = [word for word in item if word in vocabulary]\n",
    "    if len(current_train_filter)>=min_sentence_length:  \n",
    "      updated_train_data.append(current_train_filter)\n",
    "      updated_train_owner.append(train_owner[j])  \n",
    "      \n",
    "for j, item in enumerate(test_data):\n",
    "    current_test_filter = [word for word in item if word in vocabulary]  \n",
    "    if len(current_test_filter)>=min_sentence_length:\n",
    "      final_test_data.append(current_test_filter)    \t  \n",
    "      final_test_owner.append(test_owner[j]) "
   ]
  },
  {
   "cell_type": "code",
   "execution_count": 11,
   "id": "a7631420",
   "metadata": {},
   "outputs": [],
   "source": [
    "unique_train_label = list(set(updated_train_owner))\n",
    "classes = np.array(unique_train_label)"
   ]
  },
  {
   "cell_type": "code",
   "execution_count": 12,
   "id": "d776adaa",
   "metadata": {},
   "outputs": [],
   "source": [
    "X_train = np.empty(shape=[len(updated_train_data), max_sentence_len, embed_size_word2vec], dtype='float32')\n",
    "Y_train = np.empty(shape=[len(updated_train_owner),1], dtype='int32')\n",
    "\n",
    "for j, curr_row in enumerate(updated_train_data):\n",
    "    sequence_cnt = 0         \n",
    "    for item in curr_row:\n",
    "        if item in vocabulary:\n",
    "            X_train[j, sequence_cnt, :] = model.wv[item] \n",
    "            sequence_cnt = sequence_cnt + 1                \n",
    "            if sequence_cnt == max_sentence_len-1:\n",
    "                    break                \n",
    "    for k in range(sequence_cnt, max_sentence_len):\n",
    "        X_train[j, k, :] = np.zeros((1,embed_size_word2vec))        \n",
    "    Y_train[j,0] = unique_train_label.index(updated_train_owner[j])\n",
    "\n",
    "X_test = np.empty(shape=[len(final_test_data), max_sentence_len, embed_size_word2vec], dtype='float32')\n",
    "Y_test = np.empty(shape=[len(final_test_owner),1], dtype='int32')\n",
    "\n",
    "for j, curr_row in enumerate(final_test_data):\n",
    "    sequence_cnt = 0          \n",
    "    for item in curr_row:\n",
    "        if item in vocabulary:\n",
    "            X_test[j, sequence_cnt, :] = model.wv[item] \n",
    "            sequence_cnt = sequence_cnt + 1                \n",
    "            if sequence_cnt == max_sentence_len-1:\n",
    "                break                \n",
    "    for k in range(sequence_cnt, max_sentence_len):\n",
    "        X_test[j, k, :] = np.zeros((1,embed_size_word2vec))        \n",
    "    Y_test[j,0] = unique_train_label.index(final_test_owner[j])\n",
    "\n",
    "y_train = np_utils.to_categorical(Y_train, len(unique_train_label))\n",
    "y_test = np_utils.to_categorical(Y_test, len(unique_train_label))"
   ]
  },
  {
   "cell_type": "code",
   "execution_count": 13,
   "id": "480a921a",
   "metadata": {},
   "outputs": [
    {
     "name": "stdout",
     "output_type": "stream",
     "text": [
      "(5422, 7726)\n",
      "(2351, 7726)\n",
      "=======================\n"
     ]
    }
   ],
   "source": [
    "train_data = []\n",
    "for item in updated_train_data:\n",
    "    train_data.append(' '.join(item))\n",
    "\n",
    "test_data = []\n",
    "for item in final_test_data:\n",
    "    test_data.append(' '.join(item))\n",
    "\n",
    "vocab_data = []\n",
    "for item in vocabulary:\n",
    "    vocab_data.append(item)\n",
    "\n",
    "tfidf_transformer = TfidfTransformer(use_idf=False)\n",
    "count_vect = CountVectorizer(min_df=1, vocabulary= vocab_data,dtype=np.int32)\n",
    "\n",
    "train_counts = count_vect.fit_transform(train_data)       \n",
    "train_feats = tfidf_transformer.fit_transform(train_counts)\n",
    "print (train_feats.shape)\n",
    "\n",
    "test_counts = count_vect.transform(test_data)\n",
    "test_feats = tfidf_transformer.transform(test_counts)\n",
    "print (test_feats.shape)\n",
    "print (\"=======================\")"
   ]
  },
  {
   "cell_type": "code",
   "execution_count": 15,
   "id": "aeb4c18d",
   "metadata": {},
   "outputs": [
    {
     "name": "stdout",
     "output_type": "stream",
     "text": [
      "[52.74351339855381, 71.20374308804764, 79.32794555508295, 84.13441088898341, 87.92003402807316, 90.94002552105486, 93.66227137388346, 95.44874521480222, 97.15014887282007, 98.51127179923436]\n"
     ]
    }
   ],
   "source": [
    "classifierModel = MultinomialNB(alpha=0.01)        \n",
    "classifierModel = OneVsRestClassifier(classifierModel).fit(train_feats, updated_train_owner)\n",
    "predict = classifierModel.predict_proba(test_feats)  \n",
    "classes = classifierModel.classes_  \n",
    "\n",
    "accuracy = []\n",
    "sortedIndices = []\n",
    "pred_classes = []\n",
    "for ll in predict:\n",
    "    sortedIndices.append(sorted(range(len(ll)), key=lambda ii: ll[ii], reverse=True))\n",
    "for k in range(1, rankK+1):\n",
    "    id = 0\n",
    "    trueNum = 0\n",
    "    for sortedInd in sortedIndices:            \n",
    "        if final_test_owner[id] in classes[sortedInd[:k]]:\n",
    "            trueNum += 1\n",
    "            pred_classes.append(classes[sortedInd[:k]])\n",
    "        id += 1\n",
    "    accuracy.append((float(trueNum) / len(predict)) * 100)\n",
    "print(accuracy)"
   ]
  },
  {
   "cell_type": "code",
   "execution_count": 19,
   "id": "ddcae40a",
   "metadata": {},
   "outputs": [
    {
     "name": "stdout",
     "output_type": "stream",
     "text": [
      "[4.849000425350915, 13.653764355593365, 19.693747341556783, 30.66780093577201, 33.98553806890685, 41.173968524032325, 48.49000425350914, 49.29817099106763, 54.785197788175246, 58.31561037856231]\n"
     ]
    }
   ],
   "source": [
    "classifierModel = LogisticRegression(solver='lbfgs', penalty='l2', tol=0.01)\n",
    "classifierModel = OneVsRestClassifier(classifierModel).fit(train_feats, updated_train_owner)\n",
    "predict = classifierModel.predict(test_feats)\n",
    "classes = np.array(updated_train_owner) \n",
    "\n",
    "accuracy = []\n",
    "sortedIndices = []\n",
    "pred_classes = []\n",
    "for ll in predict:\n",
    "    sortedIndices.append(sorted(range(len(ll)), key=lambda ii: ll[ii], reverse=True))\n",
    "for k in range(1, rankK+1):\n",
    "    id = 0\n",
    "    trueNum = 0\n",
    "    for sortedInd in sortedIndices:            \n",
    "        if final_test_owner[id] in classes[sortedInd[:k]]:\n",
    "            trueNum += 1\n",
    "            pred_classes.append(classes[sortedInd[:k]])\n",
    "        id += 1\n",
    "    accuracy.append((float(trueNum) / len(predict)) * 100)\n",
    "print(accuracy)"
   ]
  },
  {
   "cell_type": "code",
   "execution_count": 21,
   "id": "fb3bc985",
   "metadata": {},
   "outputs": [
    {
     "data": {
      "text/plain": [
       "5422"
      ]
     },
     "execution_count": 21,
     "metadata": {},
     "output_type": "execute_result"
    }
   ],
   "source": [
    "len(classes)"
   ]
  },
  {
   "cell_type": "code",
   "execution_count": 20,
   "id": "038ad5d1",
   "metadata": {},
   "outputs": [
    {
     "name": "stdout",
     "output_type": "stream",
     "text": [
      "[5.189281156954487, 14.036580178647384, 19.948957890259464, 31.688643130582733, 34.495959166312204, 42.02467035304126, 49.468311356869414, 50.53168864313058, 55.72096980008507, 58.95363675031901]\n"
     ]
    }
   ],
   "source": [
    "classifierModel = svm.SVC(probability=True, verbose=False, decision_function_shape='ovr', random_state=42)\n",
    "classifierModel.fit(train_feats, updated_train_owner)\n",
    "predict = classifierModel.predict(test_feats)\n",
    "classes = np.array(updated_train_owner) \n",
    "\n",
    "accuracy = []\n",
    "sortedIndices = []\n",
    "pred_classes = []\n",
    "for ll in predict:\n",
    "    sortedIndices.append(sorted(range(len(ll)), key=lambda ii: ll[ii], reverse=True))\n",
    "for k in range(1, rankK+1):\n",
    "    id = 0\n",
    "    trueNum = 0\n",
    "    for sortedInd in sortedIndices:            \n",
    "        if final_test_owner[id] in classes[sortedInd[:k]]:\n",
    "            trueNum += 1\n",
    "            pred_classes.append(classes[sortedInd[:k]])\n",
    "        id += 1\n",
    "    accuracy.append((float(trueNum) / len(predict)) * 100)\n",
    "print(accuracy)"
   ]
  },
  {
   "cell_type": "code",
   "execution_count": null,
   "id": "d705b77d",
   "metadata": {},
   "outputs": [],
   "source": []
  }
 ],
 "metadata": {
  "kernelspec": {
   "display_name": "Python 3",
   "language": "python",
   "name": "python3"
  },
  "language_info": {
   "codemirror_mode": {
    "name": "ipython",
    "version": 3
   },
   "file_extension": ".py",
   "mimetype": "text/x-python",
   "name": "python",
   "nbconvert_exporter": "python",
   "pygments_lexer": "ipython3",
   "version": "3.8.8"
  }
 },
 "nbformat": 4,
 "nbformat_minor": 5
}
